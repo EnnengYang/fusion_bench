{
 "cells": [
  {
   "cell_type": "code",
   "execution_count": 2,
   "metadata": {},
   "outputs": [
    {
     "name": "stderr",
     "output_type": "stream",
     "text": [
      "/data0/users/tanganke/anaconda3/envs/svd_proj/lib/python3.12/site-packages/tqdm/auto.py:21: TqdmWarning: IProgress not found. Please update jupyter and ipywidgets. See https://ipywidgets.readthedocs.io/en/stable/user_install.html\n",
      "  from .autonotebook import tqdm as notebook_tqdm\n"
     ]
    }
   ],
   "source": [
    "from fusion_bench.method.classification.clip_finetune import load_full_finetuned_vision_model\n",
    "from transformers import CLIPVisionModel"
   ]
  },
  {
   "cell_type": "code",
   "execution_count": 4,
   "metadata": {},
   "outputs": [],
   "source": [
    "for TASK in [\"cifar10\"]:\n",
    "    model = load_full_finetuned_vision_model(\n",
    "        pretrained_path=\"openai/clip-vit-base-patch16\",\n",
    "        state_dict_path=f\"/data0/users/tanganke/projects/svd_projection/examples/clip_finetune/outputs/ViT-B-16/full_finetune/{TASK}/version_0/checkpoints/step=3999.ckpt\",\n",
    "    )\n",
    "    model.save_pretrained(f\"tanganke/clip-vit-base-patch16_{TASK}\")\n"
   ]
  },
  {
   "cell_type": "code",
   "execution_count": 5,
   "metadata": {},
   "outputs": [],
   "source": [
    "for TASK in [\"fer2013\"]:\n",
    "    model = load_full_finetuned_vision_model(\n",
    "        pretrained_path=\"openai/clip-vit-large-patch14\",\n",
    "        state_dict_path=f\"/data0/users/tanganke/projects/svd_projection/examples/clip_finetune/outputs/ViT-L-14/full_finetune/{TASK}/version_0/checkpoints/step=3999.ckpt\",\n",
    "    )\n",
    "    model.save_pretrained(f\"tanganke/clip-vit-large-patch14_{TASK}\")\n"
   ]
  },
  {
   "cell_type": "code",
   "execution_count": null,
   "metadata": {},
   "outputs": [],
   "source": []
  }
 ],
 "metadata": {
  "kernelspec": {
   "display_name": "svd_proj",
   "language": "python",
   "name": "python3"
  },
  "language_info": {
   "codemirror_mode": {
    "name": "ipython",
    "version": 3
   },
   "file_extension": ".py",
   "mimetype": "text/x-python",
   "name": "python",
   "nbconvert_exporter": "python",
   "pygments_lexer": "ipython3",
   "version": "3.12.7"
  }
 },
 "nbformat": 4,
 "nbformat_minor": 2
}
